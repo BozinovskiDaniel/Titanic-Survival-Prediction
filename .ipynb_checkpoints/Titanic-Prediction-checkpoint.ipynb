{
 "cells": [
  {
   "cell_type": "markdown",
   "id": "970b8063",
   "metadata": {},
   "source": [
    "# Titanic Prediction Notebook - Daniel"
   ]
  },
  {
   "cell_type": "markdown",
   "id": "a59160b2",
   "metadata": {},
   "source": [
    "### Plan\n",
    "\n",
    "Within this notebook, I'm going to follow the plan below:\n",
    "\n",
    "1. Exploratory Data Analysis\n",
    "    - Feature Engineering\n",
    "2. Check for Missing values\n",
    "3. Rescale Data\n",
    "4. Make predictions with some models"
   ]
  },
  {
   "cell_type": "code",
   "execution_count": 23,
   "id": "decd28a8",
   "metadata": {},
   "outputs": [],
   "source": [
    "# Imports\n",
    "%matplotlib inline\n",
    "import numpy as np # linear algebra\n",
    "import pandas as pd # data processing\n",
    "import matplotlib.pyplot as plt # plotting\n",
    "import seaborn as sns\n",
    "\n",
    "# Pre processing\n",
    "from sklearn.preprocessing import StandardScaler\n",
    "\n",
    "# Models\n",
    "from sklearn.linear_model import LogisticRegression\n",
    "from sklearn.neighbors import KNeighborsClassifier\n",
    "from sklearn.tree import DecisionTreeClassifier\n",
    "from sklearn.svm import SVC"
   ]
  },
  {
   "cell_type": "code",
   "execution_count": 24,
   "id": "752ddaf7",
   "metadata": {},
   "outputs": [],
   "source": [
    "# Read in data\n",
    "training = pd.read_csv(\"/Users/Bozinovski/Desktop/Home/Kaggle/Titanic/train.csv\")\n",
    "testing = pd.read_csv(\"/Users/Bozinovski/Desktop/Home/Kaggle/Titanic/test.csv\")"
   ]
  },
  {
   "cell_type": "code",
   "execution_count": 25,
   "id": "b67bd04e",
   "metadata": {},
   "outputs": [
    {
     "data": {
      "text/html": [
       "<div>\n",
       "<style scoped>\n",
       "    .dataframe tbody tr th:only-of-type {\n",
       "        vertical-align: middle;\n",
       "    }\n",
       "\n",
       "    .dataframe tbody tr th {\n",
       "        vertical-align: top;\n",
       "    }\n",
       "\n",
       "    .dataframe thead th {\n",
       "        text-align: right;\n",
       "    }\n",
       "</style>\n",
       "<table border=\"1\" class=\"dataframe\">\n",
       "  <thead>\n",
       "    <tr style=\"text-align: right;\">\n",
       "      <th></th>\n",
       "      <th>PassengerId</th>\n",
       "      <th>Survived</th>\n",
       "      <th>Pclass</th>\n",
       "      <th>Name</th>\n",
       "      <th>Sex</th>\n",
       "      <th>Age</th>\n",
       "      <th>SibSp</th>\n",
       "      <th>Parch</th>\n",
       "      <th>Ticket</th>\n",
       "      <th>Fare</th>\n",
       "      <th>Cabin</th>\n",
       "      <th>Embarked</th>\n",
       "    </tr>\n",
       "  </thead>\n",
       "  <tbody>\n",
       "    <tr>\n",
       "      <th>0</th>\n",
       "      <td>1</td>\n",
       "      <td>0</td>\n",
       "      <td>3</td>\n",
       "      <td>Braund, Mr. Owen Harris</td>\n",
       "      <td>male</td>\n",
       "      <td>22.0</td>\n",
       "      <td>1</td>\n",
       "      <td>0</td>\n",
       "      <td>A/5 21171</td>\n",
       "      <td>7.2500</td>\n",
       "      <td>NaN</td>\n",
       "      <td>S</td>\n",
       "    </tr>\n",
       "    <tr>\n",
       "      <th>1</th>\n",
       "      <td>2</td>\n",
       "      <td>1</td>\n",
       "      <td>1</td>\n",
       "      <td>Cumings, Mrs. John Bradley (Florence Briggs Th...</td>\n",
       "      <td>female</td>\n",
       "      <td>38.0</td>\n",
       "      <td>1</td>\n",
       "      <td>0</td>\n",
       "      <td>PC 17599</td>\n",
       "      <td>71.2833</td>\n",
       "      <td>C85</td>\n",
       "      <td>C</td>\n",
       "    </tr>\n",
       "    <tr>\n",
       "      <th>2</th>\n",
       "      <td>3</td>\n",
       "      <td>1</td>\n",
       "      <td>3</td>\n",
       "      <td>Heikkinen, Miss. Laina</td>\n",
       "      <td>female</td>\n",
       "      <td>26.0</td>\n",
       "      <td>0</td>\n",
       "      <td>0</td>\n",
       "      <td>STON/O2. 3101282</td>\n",
       "      <td>7.9250</td>\n",
       "      <td>NaN</td>\n",
       "      <td>S</td>\n",
       "    </tr>\n",
       "    <tr>\n",
       "      <th>3</th>\n",
       "      <td>4</td>\n",
       "      <td>1</td>\n",
       "      <td>1</td>\n",
       "      <td>Futrelle, Mrs. Jacques Heath (Lily May Peel)</td>\n",
       "      <td>female</td>\n",
       "      <td>35.0</td>\n",
       "      <td>1</td>\n",
       "      <td>0</td>\n",
       "      <td>113803</td>\n",
       "      <td>53.1000</td>\n",
       "      <td>C123</td>\n",
       "      <td>S</td>\n",
       "    </tr>\n",
       "    <tr>\n",
       "      <th>4</th>\n",
       "      <td>5</td>\n",
       "      <td>0</td>\n",
       "      <td>3</td>\n",
       "      <td>Allen, Mr. William Henry</td>\n",
       "      <td>male</td>\n",
       "      <td>35.0</td>\n",
       "      <td>0</td>\n",
       "      <td>0</td>\n",
       "      <td>373450</td>\n",
       "      <td>8.0500</td>\n",
       "      <td>NaN</td>\n",
       "      <td>S</td>\n",
       "    </tr>\n",
       "  </tbody>\n",
       "</table>\n",
       "</div>"
      ],
      "text/plain": [
       "   PassengerId  Survived  Pclass  \\\n",
       "0            1         0       3   \n",
       "1            2         1       1   \n",
       "2            3         1       3   \n",
       "3            4         1       1   \n",
       "4            5         0       3   \n",
       "\n",
       "                                                Name     Sex   Age  SibSp  \\\n",
       "0                            Braund, Mr. Owen Harris    male  22.0      1   \n",
       "1  Cumings, Mrs. John Bradley (Florence Briggs Th...  female  38.0      1   \n",
       "2                             Heikkinen, Miss. Laina  female  26.0      0   \n",
       "3       Futrelle, Mrs. Jacques Heath (Lily May Peel)  female  35.0      1   \n",
       "4                           Allen, Mr. William Henry    male  35.0      0   \n",
       "\n",
       "   Parch            Ticket     Fare Cabin Embarked  \n",
       "0      0         A/5 21171   7.2500   NaN        S  \n",
       "1      0          PC 17599  71.2833   C85        C  \n",
       "2      0  STON/O2. 3101282   7.9250   NaN        S  \n",
       "3      0            113803  53.1000  C123        S  \n",
       "4      0            373450   8.0500   NaN        S  "
      ]
     },
     "execution_count": 25,
     "metadata": {},
     "output_type": "execute_result"
    }
   ],
   "source": [
    "training.head()"
   ]
  },
  {
   "cell_type": "code",
   "execution_count": 26,
   "id": "b66431e9",
   "metadata": {},
   "outputs": [
    {
     "name": "stdout",
     "output_type": "stream",
     "text": [
      "['PassengerId' 'Survived' 'Pclass' 'Name' 'Sex' 'Age' 'SibSp' 'Parch'\n",
      " 'Ticket' 'Fare' 'Cabin' 'Embarked']\n"
     ]
    }
   ],
   "source": [
    "print(training.columns.values)"
   ]
  },
  {
   "cell_type": "markdown",
   "id": "def30b0c",
   "metadata": {},
   "source": [
    "# Data Descriptions\n",
    "<b>Survival:</b> 0 = No, 1 = Yes\n",
    "\n",
    "<b>Pclass(Ticket class):</b> 1=1st, 2=2nd, 3=3rd\n",
    "\n",
    "<b>Sex:</b> Sex\n",
    "\n",
    "<b>Age:</b> Age in years\n",
    "\n",
    "<b>Sibsp:</b> number of siblings/spouses aboard the Titanic\n",
    "\n",
    "<b>Parch:</b> number of parents/children aboard the Titanic\n",
    "\n",
    "<b>Ticket:</b> Ticket number\n",
    "\n",
    "<b>Fare:</b> Passenger fare\n",
    "\n",
    "<b>Cabin:</b> Cabin number\n",
    "\n",
    "<b>Embarked:</b> Port of Embarkation, C=Cherbourg, Q=Queenstown, S=Southampton"
   ]
  },
  {
   "cell_type": "markdown",
   "id": "3332a1a8",
   "metadata": {},
   "source": [
    "### Which Features are categorical?\n",
    "\n",
    "Categorical: Survived, Pclass, Sex, Embarked\n",
    "Continous: Age, Sibsp, Parch, Fare"
   ]
  },
  {
   "cell_type": "markdown",
   "id": "fd2fdd8a",
   "metadata": {},
   "source": [
    "### Types Of Features\n",
    "\n",
    "#### Categorical Features:\n",
    "A categorical variable is one that has two or more categories and each value in that feature can be categorised by them.For example, gender is a categorical variable having two categories (male and female). Now we cannot sort or give any ordering to such variables. They are also known as Nominal Variables.\n",
    "\n",
    "<b>Categorical Features in the dataset: Sex,Embarked.</b>\n",
    "\n",
    "#### Ordinal Features:\n",
    "An ordinal variable is similar to categorical values, but the difference between them is that we can have relative ordering or sorting between the values. For eg: If we have a feature like Height with values Tall, Medium, Short, then Height is a ordinal variable. Here we can have a relative sort in the variable.\n",
    "\n",
    "<b>Ordinal Features in the dataset: PClass</b>\n",
    "\n",
    "#### Continous Feature:\n",
    "A feature is said to be continous if it can take values between any two points or between the minimum or maximum values in the features column.\n",
    "\n",
    "<b>Continous Features in the dataset: Age</b>"
   ]
  },
  {
   "cell_type": "code",
   "execution_count": 27,
   "id": "05e0b8f4",
   "metadata": {},
   "outputs": [
    {
     "name": "stdout",
     "output_type": "stream",
     "text": [
      "<class 'pandas.core.frame.DataFrame'>\n",
      "RangeIndex: 891 entries, 0 to 890\n",
      "Data columns (total 12 columns):\n",
      " #   Column       Non-Null Count  Dtype  \n",
      "---  ------       --------------  -----  \n",
      " 0   PassengerId  891 non-null    int64  \n",
      " 1   Survived     891 non-null    int64  \n",
      " 2   Pclass       891 non-null    int64  \n",
      " 3   Name         891 non-null    object \n",
      " 4   Sex          891 non-null    object \n",
      " 5   Age          714 non-null    float64\n",
      " 6   SibSp        891 non-null    int64  \n",
      " 7   Parch        891 non-null    int64  \n",
      " 8   Ticket       891 non-null    object \n",
      " 9   Fare         891 non-null    float64\n",
      " 10  Cabin        204 non-null    object \n",
      " 11  Embarked     889 non-null    object \n",
      "dtypes: float64(2), int64(5), object(5)\n",
      "memory usage: 83.7+ KB\n"
     ]
    }
   ],
   "source": [
    "# Data types\n",
    "training.info()"
   ]
  },
  {
   "cell_type": "markdown",
   "id": "249e0d95",
   "metadata": {},
   "source": [
    "It seems that we have missing data for Age, Cabin and Embarked.\n",
    "\n",
    "Missing: Cabin > Age > Embarked\n",
    "\n",
    "We're going to have to find a way to deal with this missing data."
   ]
  },
  {
   "cell_type": "code",
   "execution_count": 28,
   "id": "0326ce68",
   "metadata": {},
   "outputs": [
    {
     "data": {
      "text/html": [
       "<div>\n",
       "<style scoped>\n",
       "    .dataframe tbody tr th:only-of-type {\n",
       "        vertical-align: middle;\n",
       "    }\n",
       "\n",
       "    .dataframe tbody tr th {\n",
       "        vertical-align: top;\n",
       "    }\n",
       "\n",
       "    .dataframe thead th {\n",
       "        text-align: right;\n",
       "    }\n",
       "</style>\n",
       "<table border=\"1\" class=\"dataframe\">\n",
       "  <thead>\n",
       "    <tr style=\"text-align: right;\">\n",
       "      <th></th>\n",
       "      <th>PassengerId</th>\n",
       "      <th>Survived</th>\n",
       "      <th>Pclass</th>\n",
       "      <th>Age</th>\n",
       "      <th>SibSp</th>\n",
       "      <th>Parch</th>\n",
       "      <th>Fare</th>\n",
       "    </tr>\n",
       "  </thead>\n",
       "  <tbody>\n",
       "    <tr>\n",
       "      <th>count</th>\n",
       "      <td>891.000000</td>\n",
       "      <td>891.000000</td>\n",
       "      <td>891.000000</td>\n",
       "      <td>714.000000</td>\n",
       "      <td>891.000000</td>\n",
       "      <td>891.000000</td>\n",
       "      <td>891.000000</td>\n",
       "    </tr>\n",
       "    <tr>\n",
       "      <th>mean</th>\n",
       "      <td>446.000000</td>\n",
       "      <td>0.383838</td>\n",
       "      <td>2.308642</td>\n",
       "      <td>29.699118</td>\n",
       "      <td>0.523008</td>\n",
       "      <td>0.381594</td>\n",
       "      <td>32.204208</td>\n",
       "    </tr>\n",
       "    <tr>\n",
       "      <th>std</th>\n",
       "      <td>257.353842</td>\n",
       "      <td>0.486592</td>\n",
       "      <td>0.836071</td>\n",
       "      <td>14.526497</td>\n",
       "      <td>1.102743</td>\n",
       "      <td>0.806057</td>\n",
       "      <td>49.693429</td>\n",
       "    </tr>\n",
       "    <tr>\n",
       "      <th>min</th>\n",
       "      <td>1.000000</td>\n",
       "      <td>0.000000</td>\n",
       "      <td>1.000000</td>\n",
       "      <td>0.420000</td>\n",
       "      <td>0.000000</td>\n",
       "      <td>0.000000</td>\n",
       "      <td>0.000000</td>\n",
       "    </tr>\n",
       "    <tr>\n",
       "      <th>25%</th>\n",
       "      <td>223.500000</td>\n",
       "      <td>0.000000</td>\n",
       "      <td>2.000000</td>\n",
       "      <td>20.125000</td>\n",
       "      <td>0.000000</td>\n",
       "      <td>0.000000</td>\n",
       "      <td>7.910400</td>\n",
       "    </tr>\n",
       "    <tr>\n",
       "      <th>50%</th>\n",
       "      <td>446.000000</td>\n",
       "      <td>0.000000</td>\n",
       "      <td>3.000000</td>\n",
       "      <td>28.000000</td>\n",
       "      <td>0.000000</td>\n",
       "      <td>0.000000</td>\n",
       "      <td>14.454200</td>\n",
       "    </tr>\n",
       "    <tr>\n",
       "      <th>75%</th>\n",
       "      <td>668.500000</td>\n",
       "      <td>1.000000</td>\n",
       "      <td>3.000000</td>\n",
       "      <td>38.000000</td>\n",
       "      <td>1.000000</td>\n",
       "      <td>0.000000</td>\n",
       "      <td>31.000000</td>\n",
       "    </tr>\n",
       "    <tr>\n",
       "      <th>max</th>\n",
       "      <td>891.000000</td>\n",
       "      <td>1.000000</td>\n",
       "      <td>3.000000</td>\n",
       "      <td>80.000000</td>\n",
       "      <td>8.000000</td>\n",
       "      <td>6.000000</td>\n",
       "      <td>512.329200</td>\n",
       "    </tr>\n",
       "  </tbody>\n",
       "</table>\n",
       "</div>"
      ],
      "text/plain": [
       "       PassengerId    Survived      Pclass         Age       SibSp  \\\n",
       "count   891.000000  891.000000  891.000000  714.000000  891.000000   \n",
       "mean    446.000000    0.383838    2.308642   29.699118    0.523008   \n",
       "std     257.353842    0.486592    0.836071   14.526497    1.102743   \n",
       "min       1.000000    0.000000    1.000000    0.420000    0.000000   \n",
       "25%     223.500000    0.000000    2.000000   20.125000    0.000000   \n",
       "50%     446.000000    0.000000    3.000000   28.000000    0.000000   \n",
       "75%     668.500000    1.000000    3.000000   38.000000    1.000000   \n",
       "max     891.000000    1.000000    3.000000   80.000000    8.000000   \n",
       "\n",
       "            Parch        Fare  \n",
       "count  891.000000  891.000000  \n",
       "mean     0.381594   32.204208  \n",
       "std      0.806057   49.693429  \n",
       "min      0.000000    0.000000  \n",
       "25%      0.000000    7.910400  \n",
       "50%      0.000000   14.454200  \n",
       "75%      0.000000   31.000000  \n",
       "max      6.000000  512.329200  "
      ]
     },
     "execution_count": 28,
     "metadata": {},
     "output_type": "execute_result"
    }
   ],
   "source": [
    "training.describe()"
   ]
  },
  {
   "cell_type": "markdown",
   "id": "a25b8dd9",
   "metadata": {},
   "source": [
    "# Missing Values"
   ]
  },
  {
   "cell_type": "markdown",
   "id": "fb9217e0",
   "metadata": {},
   "source": [
    "# Feature Engineering\n",
    "\n",
    "We now need to decide what features we are going to keep and which ones we are going to get rid of"
   ]
  },
  {
   "cell_type": "code",
   "execution_count": 29,
   "id": "a205dea3",
   "metadata": {},
   "outputs": [],
   "source": [
    "# Create our 2 bins, one for continous variables and the other for discrete\n",
    "df_binary = pd.DataFrame() # for discretised continuous variables\n",
    "df_continuous = pd.DataFrame() # for continuous variables "
   ]
  },
  {
   "cell_type": "markdown",
   "id": "1e1dc96e",
   "metadata": {},
   "source": [
    "# Feature 1: Survived"
   ]
  },
  {
   "cell_type": "code",
   "execution_count": 30,
   "id": "8534dad3",
   "metadata": {},
   "outputs": [
    {
     "data": {
      "text/plain": [
       "<AxesSubplot:xlabel='Survived', ylabel='count'>"
      ]
     },
     "execution_count": 30,
     "metadata": {},
     "output_type": "execute_result"
    },
    {
     "data": {
      "image/png": "[encoded data removed]",
      "text/plain": [
       "<Figure size 432x288 with 1 Axes>"
      ]
     },
     "metadata": {
      "needs_background": "light"
     },
     "output_type": "display_data"
    }
   ],
   "source": [
    "# How many people survived/died?\n",
    "training['Survived'].value_counts()\n",
    "sns.countplot(x=\"Survived\", data=training)"
   ]
  },
  {
   "cell_type": "code",
   "execution_count": 31,
   "id": "42dd873c",
   "metadata": {},
   "outputs": [],
   "source": [
    "# Add the data to our subsets\n",
    "df_binary['Survived'] = training['Survived']\n",
    "df_continuous['Survived'] = training['Survived']"
   ]
  },
  {
   "cell_type": "markdown",
   "id": "bd76513b",
   "metadata": {},
   "source": [
    "# Feature 2: Pclass"
   ]
  },
  {
   "cell_type": "markdown",
   "id": "eb49a814",
   "metadata": {},
   "source": [
    "So we know that Pclass relates to the class that each person was in\n",
    "\n",
    "1 implied 1st class\n",
    "2 implied 2nd class\n",
    "3 implied 3rd class"
   ]
  },
  {
   "cell_type": "code",
   "execution_count": 32,
   "id": "248a3d04",
   "metadata": {},
   "outputs": [
    {
     "data": {
      "text/plain": [
       "0    3\n",
       "1    1\n",
       "2    3\n",
       "3    1\n",
       "4    3\n",
       "Name: Pclass, dtype: int64"
      ]
     },
     "execution_count": 32,
     "metadata": {},
     "output_type": "execute_result"
    }
   ],
   "source": [
    "training['Pclass'].head()"
   ]
  },
  {
   "cell_type": "code",
   "execution_count": 33,
   "id": "8a647157",
   "metadata": {},
   "outputs": [
    {
     "data": {
      "text/plain": [
       "3    491\n",
       "1    216\n",
       "2    184\n",
       "Name: Pclass, dtype: int64"
      ]
     },
     "execution_count": 33,
     "metadata": {},
     "output_type": "execute_result"
    }
   ],
   "source": [
    "training['Pclass'].value_counts()"
   ]
  },
  {
   "cell_type": "code",
   "execution_count": 65,
   "id": "97a907af",
   "metadata": {},
   "outputs": [
    {
     "data": {
      "image/png": "[encoded data removed]",
      "text/plain": [
       "<Figure size 1296x576 with 2 Axes>"
      ]
     },
     "metadata": {
      "needs_background": "light"
     },
     "output_type": "display_data"
    }
   ],
   "source": [
    "f,ax=plt.subplots(1,2,figsize=(18,8))\n",
    "training['Pclass'].value_counts().plot.bar(color=['#CD7F32','#FFDF00','#D3D3D3'],ax=ax[0])\n",
    "\n",
    "ax[0].set_title('Number Of Passengers By Pclass')\n",
    "ax[0].set_ylabel('Count')\n",
    "\n",
    "sns.countplot(x='Pclass',hue='Survived',data=training,ax=ax[1])\n",
    "ax[1].set_title('Pclass:Survived vs Dead')\n",
    "plt.show()"
   ]
  },
  {
   "cell_type": "code",
   "execution_count": 72,
   "id": "5f03374c",
   "metadata": {},
   "outputs": [],
   "source": [
    "survivedClass1 = 0\n",
    "diedClass1 = 0\n",
    "\n",
    "survivedClass2 = 0\n",
    "diedClass2 = 0\n",
    "\n",
    "survivedClass3 = 0\n",
    "diedClass3 = 0\n",
    "\n",
    "for i in range(len(training['Pclass'])):\n",
    "    \n",
    "    curr = (training['Pclass'])[i]\n",
    "    surv = (training['Survived'])[i]\n",
    "    \n",
    "    if curr == 1:\n",
    "        if surv:\n",
    "            survivedClass1 += 1\n",
    "        else:\n",
    "            diedClass1 += 1\n",
    "    elif curr == 2:\n",
    "        if surv:\n",
    "            survivedClass2 += 1\n",
    "        else:\n",
    "            diedClass2 += 1\n",
    "    else:\n",
    "        # curr == 3\n",
    "        if surv:\n",
    "            survivedClass3 += 1\n",
    "        else:\n",
    "            diedClass3 += 1\n",
    "           "
   ]
  },
  {
   "cell_type": "code",
   "execution_count": 84,
   "id": "69121f31",
   "metadata": {},
   "outputs": [
    {
     "name": "stdout",
     "output_type": "stream",
     "text": [
      "Num in Pclass1: 216, 136 survived (63%)\n",
      "Num in Pclass2: 184, 87 survived (47%)\n",
      "Num in Pclass3: 491, 119 survived (24%)\n"
     ]
    }
   ],
   "source": [
    "print(f\"Num in Pclass1: {survivedClass1+diedClass1}, {survivedClass1} survived ({round(survivedClass1/(survivedClass1+diedClass1)*100)}%)\")\n",
    "print(f\"Num in Pclass2: {survivedClass2+diedClass2}, {survivedClass2} survived ({round(survivedClass2/(survivedClass2+diedClass2)*100)}%)\")\n",
    "print(f\"Num in Pclass3: {survivedClass3+diedClass3}, {survivedClass3} survived ({round(survivedClass3/(survivedClass3+diedClass3)*100)}%)\")"
   ]
  },
  {
   "cell_type": "markdown",
   "id": "b2f1b04e",
   "metadata": {},
   "source": [
    "### Notes from First Graph\n",
    "\n",
    "We can see that the majority of people were in Pclass 3 (<b>poorest class</b>) to Pclass 1 and then Pclass 2\n",
    "\n",
    "### Notes from Second Graph\n",
    "\n",
    "It shows that most of the people that did not survive were in Pclass 3, wheras Pclass 1 and 2 seemed to have a significantly higher change of surviving."
   ]
  },
  {
   "cell_type": "code",
   "execution_count": 63,
   "id": "51de61ce",
   "metadata": {},
   "outputs": [
    {
     "data": {
      "text/plain": [
       "<seaborn.axisgrid.FacetGrid at 0x7fc39e960a60>"
      ]
     },
     "execution_count": 63,
     "metadata": {},
     "output_type": "execute_result"
    },
    {
     "data": {
      "image/png": "[encoded data removed]",
      "text/plain": [
       "<Figure size 360x360 with 1 Axes>"
      ]
     },
     "metadata": {
      "needs_background": "light"
     },
     "output_type": "display_data"
    }
   ],
   "source": [
    "sns.displot(training['Pclass'])"
   ]
  },
  {
   "cell_type": "code",
   "execution_count": 35,
   "id": "8a2c7d9e",
   "metadata": {},
   "outputs": [
    {
     "data": {
      "text/plain": [
       "<AxesSubplot:xlabel='Pclass', ylabel='count'>"
      ]
     },
     "execution_count": 35,
     "metadata": {},
     "output_type": "execute_result"
    },
    {
     "data": {
      "image/png": "[encoded data removed]",
      "text/plain": [
       "<Figure size 432x288 with 1 Axes>"
      ]
     },
     "metadata": {
      "needs_background": "light"
     },
     "output_type": "display_data"
    }
   ],
   "source": [
    "sns.countplot(x=\"Pclass\", data=training)"
   ]
  },
  {
   "cell_type": "markdown",
   "id": "761e79a0",
   "metadata": {},
   "source": [
    "We note that the number of people that a large portion of the people were in 3rd class."
   ]
  },
  {
   "cell_type": "code",
   "execution_count": null,
   "id": "2f777864",
   "metadata": {},
   "outputs": [],
   "source": []
  },
  {
   "cell_type": "markdown",
   "id": "28538807",
   "metadata": {},
   "source": [
    "Since there seems to be a correlation with people being in a specific Pclass and their survival rate, we will add it to our sub data frames."
   ]
  },
  {
   "cell_type": "code",
   "execution_count": 36,
   "id": "a6509743",
   "metadata": {},
   "outputs": [
    {
     "data": {
      "text/html": [
       "<div>\n",
       "<style scoped>\n",
       "    .dataframe tbody tr th:only-of-type {\n",
       "        vertical-align: middle;\n",
       "    }\n",
       "\n",
       "    .dataframe tbody tr th {\n",
       "        vertical-align: top;\n",
       "    }\n",
       "\n",
       "    .dataframe thead th {\n",
       "        text-align: right;\n",
       "    }\n",
       "</style>\n",
       "<table border=\"1\" class=\"dataframe\">\n",
       "  <thead>\n",
       "    <tr style=\"text-align: right;\">\n",
       "      <th></th>\n",
       "      <th>Survived</th>\n",
       "      <th>Pclass</th>\n",
       "    </tr>\n",
       "  </thead>\n",
       "  <tbody>\n",
       "    <tr>\n",
       "      <th>0</th>\n",
       "      <td>0</td>\n",
       "      <td>3</td>\n",
       "    </tr>\n",
       "    <tr>\n",
       "      <th>1</th>\n",
       "      <td>1</td>\n",
       "      <td>1</td>\n",
       "    </tr>\n",
       "    <tr>\n",
       "      <th>2</th>\n",
       "      <td>1</td>\n",
       "      <td>3</td>\n",
       "    </tr>\n",
       "    <tr>\n",
       "      <th>3</th>\n",
       "      <td>1</td>\n",
       "      <td>1</td>\n",
       "    </tr>\n",
       "    <tr>\n",
       "      <th>4</th>\n",
       "      <td>0</td>\n",
       "      <td>3</td>\n",
       "    </tr>\n",
       "  </tbody>\n",
       "</table>\n",
       "</div>"
      ],
      "text/plain": [
       "   Survived  Pclass\n",
       "0         0       3\n",
       "1         1       1\n",
       "2         1       3\n",
       "3         1       1\n",
       "4         0       3"
      ]
     },
     "execution_count": 36,
     "metadata": {},
     "output_type": "execute_result"
    }
   ],
   "source": [
    "df_binary['Pclass'] = training['Pclass']\n",
    "df_continuous['Pclass'] = training['Pclass']\n",
    "\n",
    "df_binary.head()"
   ]
  },
  {
   "cell_type": "markdown",
   "id": "34966d15",
   "metadata": {},
   "source": [
    "# Feature 3: Sex (Categorical)"
   ]
  },
  {
   "cell_type": "code",
   "execution_count": 37,
   "id": "0d6d9c3a",
   "metadata": {},
   "outputs": [
    {
     "data": {
      "text/html": [
       "<div>\n",
       "<style scoped>\n",
       "    .dataframe tbody tr th:only-of-type {\n",
       "        vertical-align: middle;\n",
       "    }\n",
       "\n",
       "    .dataframe tbody tr th {\n",
       "        vertical-align: top;\n",
       "    }\n",
       "\n",
       "    .dataframe thead th {\n",
       "        text-align: right;\n",
       "    }\n",
       "</style>\n",
       "<table border=\"1\" class=\"dataframe\">\n",
       "  <thead>\n",
       "    <tr style=\"text-align: right;\">\n",
       "      <th></th>\n",
       "      <th>PassengerId</th>\n",
       "      <th>Survived</th>\n",
       "      <th>Pclass</th>\n",
       "      <th>Name</th>\n",
       "      <th>Sex</th>\n",
       "      <th>Age</th>\n",
       "      <th>SibSp</th>\n",
       "      <th>Parch</th>\n",
       "      <th>Ticket</th>\n",
       "      <th>Fare</th>\n",
       "      <th>Cabin</th>\n",
       "      <th>Embarked</th>\n",
       "    </tr>\n",
       "  </thead>\n",
       "  <tbody>\n",
       "    <tr>\n",
       "      <th>0</th>\n",
       "      <td>1</td>\n",
       "      <td>0</td>\n",
       "      <td>3</td>\n",
       "      <td>Braund, Mr. Owen Harris</td>\n",
       "      <td>male</td>\n",
       "      <td>22.0</td>\n",
       "      <td>1</td>\n",
       "      <td>0</td>\n",
       "      <td>A/5 21171</td>\n",
       "      <td>7.2500</td>\n",
       "      <td>NaN</td>\n",
       "      <td>S</td>\n",
       "    </tr>\n",
       "    <tr>\n",
       "      <th>1</th>\n",
       "      <td>2</td>\n",
       "      <td>1</td>\n",
       "      <td>1</td>\n",
       "      <td>Cumings, Mrs. John Bradley (Florence Briggs Th...</td>\n",
       "      <td>female</td>\n",
       "      <td>38.0</td>\n",
       "      <td>1</td>\n",
       "      <td>0</td>\n",
       "      <td>PC 17599</td>\n",
       "      <td>71.2833</td>\n",
       "      <td>C85</td>\n",
       "      <td>C</td>\n",
       "    </tr>\n",
       "    <tr>\n",
       "      <th>2</th>\n",
       "      <td>3</td>\n",
       "      <td>1</td>\n",
       "      <td>3</td>\n",
       "      <td>Heikkinen, Miss. Laina</td>\n",
       "      <td>female</td>\n",
       "      <td>26.0</td>\n",
       "      <td>0</td>\n",
       "      <td>0</td>\n",
       "      <td>STON/O2. 3101282</td>\n",
       "      <td>7.9250</td>\n",
       "      <td>NaN</td>\n",
       "      <td>S</td>\n",
       "    </tr>\n",
       "    <tr>\n",
       "      <th>3</th>\n",
       "      <td>4</td>\n",
       "      <td>1</td>\n",
       "      <td>1</td>\n",
       "      <td>Futrelle, Mrs. Jacques Heath (Lily May Peel)</td>\n",
       "      <td>female</td>\n",
       "      <td>35.0</td>\n",
       "      <td>1</td>\n",
       "      <td>0</td>\n",
       "      <td>113803</td>\n",
       "      <td>53.1000</td>\n",
       "      <td>C123</td>\n",
       "      <td>S</td>\n",
       "    </tr>\n",
       "    <tr>\n",
       "      <th>4</th>\n",
       "      <td>5</td>\n",
       "      <td>0</td>\n",
       "      <td>3</td>\n",
       "      <td>Allen, Mr. William Henry</td>\n",
       "      <td>male</td>\n",
       "      <td>35.0</td>\n",
       "      <td>0</td>\n",
       "      <td>0</td>\n",
       "      <td>373450</td>\n",
       "      <td>8.0500</td>\n",
       "      <td>NaN</td>\n",
       "      <td>S</td>\n",
       "    </tr>\n",
       "  </tbody>\n",
       "</table>\n",
       "</div>"
      ],
      "text/plain": [
       "   PassengerId  Survived  Pclass  \\\n",
       "0            1         0       3   \n",
       "1            2         1       1   \n",
       "2            3         1       3   \n",
       "3            4         1       1   \n",
       "4            5         0       3   \n",
       "\n",
       "                                                Name     Sex   Age  SibSp  \\\n",
       "0                            Braund, Mr. Owen Harris    male  22.0      1   \n",
       "1  Cumings, Mrs. John Bradley (Florence Briggs Th...  female  38.0      1   \n",
       "2                             Heikkinen, Miss. Laina  female  26.0      0   \n",
       "3       Futrelle, Mrs. Jacques Heath (Lily May Peel)  female  35.0      1   \n",
       "4                           Allen, Mr. William Henry    male  35.0      0   \n",
       "\n",
       "   Parch            Ticket     Fare Cabin Embarked  \n",
       "0      0         A/5 21171   7.2500   NaN        S  \n",
       "1      0          PC 17599  71.2833   C85        C  \n",
       "2      0  STON/O2. 3101282   7.9250   NaN        S  \n",
       "3      0            113803  53.1000  C123        S  \n",
       "4      0            373450   8.0500   NaN        S  "
      ]
     },
     "execution_count": 37,
     "metadata": {},
     "output_type": "execute_result"
    }
   ],
   "source": [
    "training.head()"
   ]
  },
  {
   "cell_type": "code",
   "execution_count": 38,
   "id": "98c17af9",
   "metadata": {},
   "outputs": [
    {
     "name": "stdout",
     "output_type": "stream",
     "text": [
      "Total Males: 577\n",
      "Total Females: 314\n"
     ]
    }
   ],
   "source": [
    "# Check how many males vs females\n",
    "totalM, totalF = training['Sex'].value_counts()\n",
    "print(f\"Total Males: {totalM}\")\n",
    "print(f\"Total Females: {totalF}\")"
   ]
  },
  {
   "cell_type": "code",
   "execution_count": 66,
   "id": "c195ac4c",
   "metadata": {},
   "outputs": [
    {
     "data": {
      "text/plain": [
       "Text(0.5, 1.0, 'Sex:Survived vs Dead')"
      ]
     },
     "execution_count": 66,
     "metadata": {},
     "output_type": "execute_result"
    },
    {
     "data": {
      "image/png": "[encoded data removed]",
      "text/plain": [
       "<Figure size 1296x576 with 1 Axes>"
      ]
     },
     "metadata": {
      "needs_background": "light"
     },
     "output_type": "display_data"
    }
   ],
   "source": [
    "# Graph of above\n",
    "f,ax=plt.subplots(1, figsize=(18,8))\n",
    "# training[['Sex','Survived']].groupby(['Sex']).mean().plot.bar(ax=ax[0])\n",
    "\n",
    "sns.countplot(x='Sex',hue='Survived',data=training,ax=ax)\n",
    "ax.set_title('Sex:Survived vs Dead')"
   ]
  },
  {
   "cell_type": "code",
   "execution_count": 40,
   "id": "2b035e31",
   "metadata": {},
   "outputs": [
    {
     "data": {
      "text/plain": [
       "0"
      ]
     },
     "execution_count": 40,
     "metadata": {},
     "output_type": "execute_result"
    }
   ],
   "source": [
    "# Are there any missing values for sex?\n",
    "training.Sex.isnull().sum() # None are empty"
   ]
  },
  {
   "cell_type": "code",
   "execution_count": 52,
   "id": "6f69cd48",
   "metadata": {},
   "outputs": [
    {
     "name": "stdout",
     "output_type": "stream",
     "text": [
      "Females Survived: 233/314 (74%)\n",
      "Males Survived: 109/577 (19%)\n"
     ]
    }
   ],
   "source": [
    "# How many of each sex survived?\n",
    "sex = training['Sex']\n",
    "survived = training['Survived']\n",
    "\n",
    "mSurvived = 0\n",
    "fSurvived = 0\n",
    "\n",
    "for i in range(len(sex)):\n",
    "    \n",
    "    if sex[i] == \"female\":\n",
    "        fSurvived += survived[i]\n",
    "    else:\n",
    "        mSurvived += survived[i]\n",
    "        \n",
    "print(f\"Females Survived: {fSurvived}/{totalF} ({round(fSurvived/totalF * 100)}%)\")\n",
    "print(f\"Males Survived: {mSurvived}/{totalM} ({round(mSurvived/totalM * 100)}%)\")"
   ]
  },
  {
   "cell_type": "code",
   "execution_count": null,
   "id": "bb24e9ef",
   "metadata": {},
   "outputs": [],
   "source": [
    "# Add sex feature to data frames\n",
    "\n",
    "df_binary[\"Sex\"] = training[\"Sex\"]\n",
    "df_binary[\"Sex\"] = np.where(df_binary['Sex'] == 'female', 1, 0)\n",
    "\n",
    "df_continuous[\"Sex\"] = training[\"Sex\"]\n",
    "\n",
    "df_binary.head()\n",
    "df_continuous.head()"
   ]
  },
  {
   "cell_type": "markdown",
   "id": "64c6d391",
   "metadata": {},
   "source": [
    "We note that significantly more females survived (74%) than males (19%), which is inline with our predicitions of \"Women and Children First\"."
   ]
  },
  {
   "cell_type": "markdown",
   "id": "e49758ee",
   "metadata": {},
   "source": [
    "# Feature 4: Age (Continuous)"
   ]
  },
  {
   "cell_type": "code",
   "execution_count": 85,
   "id": "d8cc3b11",
   "metadata": {},
   "outputs": [
    {
     "name": "stdout",
     "output_type": "stream",
     "text": [
      "Average Passenger Age: 29.7\n",
      "Oldest Passenger Age: 80.0\n",
      "Youngest Passenger Age: 0.42\n"
     ]
    }
   ],
   "source": [
    "# Look at the average age\n",
    "print(f\"Average Passenger Age: {round(np.mean(training['Age']), 2)}\")\n",
    "print(f\"Oldest Passenger Age: {np.max(training['Age'])}\")\n",
    "print(f\"Youngest Passenger Age: {np.min(training['Age'])}\")"
   ]
  },
  {
   "cell_type": "code",
   "execution_count": 48,
   "id": "b18fc251",
   "metadata": {},
   "outputs": [
    {
     "data": {
      "text/plain": [
       "<seaborn.axisgrid.FacetGrid at 0x7fc39be7c1f0>"
      ]
     },
     "execution_count": 48,
     "metadata": {},
     "output_type": "execute_result"
    },
    {
     "data": {
      "image/png": "[encoded data removed]",
      "text/plain": [
       "<Figure size 360x360 with 1 Axes>"
      ]
     },
     "metadata": {
      "needs_background": "light"
     },
     "output_type": "display_data"
    }
   ],
   "source": [
    "# Take a look at the distribution of ages\n",
    "sns.displot(training['Age'])"
   ]
  },
  {
   "cell_type": "code",
   "execution_count": 49,
   "id": "e1db014f",
   "metadata": {},
   "outputs": [
    {
     "data": {
      "text/plain": [
       "<seaborn.axisgrid.FacetGrid at 0x7fc39c08c3d0>"
      ]
     },
     "execution_count": 49,
     "metadata": {},
     "output_type": "execute_result"
    },
    {
     "data": {
      "image/png": "[encoded data removed]",
      "text/plain": [
       "<Figure size 915.875x216 with 1 Axes>"
      ]
     },
     "metadata": {
      "needs_background": "light"
     },
     "output_type": "display_data"
    }
   ],
   "source": [
    "# Peaks for survived/not survived for different ages for current Data\n",
    "facet = sns.FacetGrid(training, hue=\"Survived\",aspect=4)\n",
    "facet.map(sns.kdeplot,'Age',shade= True)\n",
    "facet.set(xlim=(0, training['Age'].max()))\n",
    "facet.add_legend()"
   ]
  },
  {
   "cell_type": "code",
   "execution_count": 50,
   "id": "d7347554",
   "metadata": {},
   "outputs": [
    {
     "data": {
      "text/plain": [
       "177"
      ]
     },
     "execution_count": 50,
     "metadata": {},
     "output_type": "execute_result"
    }
   ],
   "source": [
    "# Look at how much missing data there is\n",
    "training.Age.isnull().sum()"
   ]
  },
  {
   "cell_type": "code",
   "execution_count": 93,
   "id": "c5553b21",
   "metadata": {},
   "outputs": [
    {
     "data": {
      "image/png": "[encoded data removed]",
      "text/plain": [
       "<Figure size 1008x576 with 1 Axes>"
      ]
     },
     "metadata": {
      "needs_background": "light"
     },
     "output_type": "display_data"
    }
   ],
   "source": [
    "f,ax=plt.subplots(1,figsize=(14,8))\n",
    "sns.violinplot(x=\"Sex\",y=\"Age\", hue=\"Survived\", data=training,split=True,ax=ax)\n",
    "ax.set_title('Sex and Age vs Survived')\n",
    "ax.set_yticks(range(0,110,10))\n",
    "plt.show()"
   ]
  },
  {
   "cell_type": "markdown",
   "id": "b8b6d205",
   "metadata": {},
   "source": [
    "### Observations\n",
    "\n",
    "- For males, the survival rate rapidly decreases with age"
   ]
  },
  {
   "cell_type": "markdown",
   "id": "b9f0a97b",
   "metadata": {},
   "source": [
    "#### What to do with Age?\n",
    "\n"
   ]
  },
  {
   "cell_type": "code",
   "execution_count": 44,
   "id": "1bb7395b",
   "metadata": {},
   "outputs": [],
   "source": [
    "# Look at if there seems to be a correlation with Surviving"
   ]
  },
  {
   "cell_type": "markdown",
   "id": "d5b91f74",
   "metadata": {},
   "source": [
    "# Feature 5: SibSp"
   ]
  },
  {
   "cell_type": "code",
   "execution_count": null,
   "id": "e0fa0b63",
   "metadata": {},
   "outputs": [],
   "source": []
  },
  {
   "cell_type": "code",
   "execution_count": null,
   "id": "ad975ef0",
   "metadata": {},
   "outputs": [],
   "source": []
  },
  {
   "cell_type": "markdown",
   "id": "f440cac9",
   "metadata": {},
   "source": [
    "# Cabin"
   ]
  },
  {
   "cell_type": "code",
   "execution_count": null,
   "id": "f8253031",
   "metadata": {},
   "outputs": [],
   "source": []
  },
  {
   "cell_type": "code",
   "execution_count": null,
   "id": "2ce271a8",
   "metadata": {},
   "outputs": [],
   "source": [
    "training['Cabin'].value_counts()"
   ]
  },
  {
   "cell_type": "markdown",
   "id": "23f11973",
   "metadata": {},
   "source": [
    "Doesn't seem to have any type of correlation and since there are so many missing values / null values, we are not going to use Cabin as one of our features.\n",
    "\n",
    "This may change on a future update"
   ]
  },
  {
   "cell_type": "code",
   "execution_count": null,
   "id": "7710977e",
   "metadata": {},
   "outputs": [],
   "source": [
    "training.head()"
   ]
  },
  {
   "cell_type": "markdown",
   "id": "d054e035",
   "metadata": {},
   "source": [
    "# Sex"
   ]
  },
  {
   "cell_type": "code",
   "execution_count": null,
   "id": "206370ca",
   "metadata": {},
   "outputs": [],
   "source": []
  }
 ],
 "metadata": {
  "kernelspec": {
   "display_name": "Python 3",
   "language": "python",
   "name": "python3"
  },
  "language_info": {
   "codemirror_mode": {
    "name": "ipython",
    "version": 3
   },
   "file_extension": ".py",
   "mimetype": "text/x-python",
   "name": "python",
   "nbconvert_exporter": "python",
   "pygments_lexer": "ipython3",
   "version": "3.8.8"
  }
 },
 "nbformat": 4,
 "nbformat_minor": 5
}
